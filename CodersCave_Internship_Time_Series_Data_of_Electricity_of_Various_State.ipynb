{
  "cells": [
    {
      "cell_type": "markdown",
      "source": [
        " Hii, everyone here is an EDA of a time series data, this data set contains the power consumption of various states of Tamil Nadu over the years 2019 to 23. I have used libraries like pandas, matplotlib.pyplot, I have used libraries like pandas, matplotlib.pyplot."
      ],
      "metadata": {
        "id": "wqwLwDiKzxrq"
      }
    },
    {
      "cell_type": "markdown",
      "source": [
        "The line import pandas as pd is used to load the dataset."
      ],
      "metadata": {
        "id": "Mi4h599442pL"
      }
    },
    {
      "cell_type": "code",
      "execution_count": null,
      "metadata": {
        "id": "R7FTtU4UmIL_"
      },
      "outputs": [],
      "source": [
        "import pandas as pd\n",
        "import plotly.express as xp\n",
        "d = pd.read_csv(\"/content/drive/MyDrive/intern/time.csv.csv\")\n",
        "print(d)\n"
      ]
    },
    {
      "cell_type": "markdown",
      "source": [
        "pd.to_datetime function is used to convert the format of datetime to year , groupby function used to group the usage of electricity by a particular state over the year 2019 and bar plot is used for visualization using plotly library."
      ],
      "metadata": {
        "id": "HNrajIEt46ga"
      }
    },
    {
      "cell_type": "code",
      "execution_count": null,
      "metadata": {
        "id": "HwoTpyUyu0He"
      },
      "outputs": [],
      "source": [
        "d[\"DateTime\"] = pd.to_datetime(d[\"DateTime\"])\n",
        "y = d[d[\"DateTime\"].dt.year==2019]\n",
        "print(y)\n",
        "g = y.groupby(\"DateTime\")[\"UP\"].sum().reset_index()\n",
        "bar = xp.bar(g, x =\"DateTime\",y =\"UP\")\n",
        "bar.show()"
      ]
    },
    {
      "cell_type": "code",
      "source": [
        "d[\"DateTime\"] = pd.to_datetime(d[\"DateTime\"])\n",
        "y = d[d[\"DateTime\"].dt.year==2019]\n",
        "print(y)\n",
        "g = y.groupby(\"DateTime\")[\"Delhi\"].sum().reset_index()\n",
        "bar = xp.bar(g, x =\"DateTime\",y =\"Delhi\")\n",
        "bar.show()"
      ],
      "metadata": {
        "id": "JcCHMZWwsp91"
      },
      "execution_count": null,
      "outputs": []
    },
    {
      "cell_type": "code",
      "source": [
        "d[\"DateTime\"] = pd.to_datetime(d[\"DateTime\"])\n",
        "y = d[d[\"DateTime\"].dt.year==2019]\n",
        "print(y)\n",
        "g = y.groupby(\"DateTime\")[\"HP\"].sum().reset_index()\n",
        "bar = xp.bar(g, x =\"DateTime\",y =\"HP\")\n",
        "bar.show()"
      ],
      "metadata": {
        "id": "pas6canfKmic"
      },
      "execution_count": null,
      "outputs": []
    },
    {
      "cell_type": "code",
      "execution_count": null,
      "metadata": {
        "id": "SYRFI2F82qIp"
      },
      "outputs": [],
      "source": [
        "import pandas as pd\n",
        "import plotly.express as xp\n",
        "d = pd.read_csv(\"/content/drive/MyDrive/intern/long_data_.csv\")\n"
      ]
    },
    {
      "cell_type": "markdown",
      "source": [
        "The groupby function is used group the usage of electricity respective with the region and represented in a line plot using plotly express library"
      ],
      "metadata": {
        "id": "7jrA_hoF-eot"
      }
    },
    {
      "cell_type": "code",
      "execution_count": null,
      "metadata": {
        "id": "NLd2jbH13pWs"
      },
      "outputs": [],
      "source": [
        "g = d.groupby(\"Regions\")[\"Usage\"].sum()\n",
        "print(g)"
      ]
    },
    {
      "cell_type": "code",
      "source": [
        "l = xp.line(g,markers=True,title = \"ELECTRICITY USAGE OF DIFFERENT REGIONS\")\n",
        "l.show()"
      ],
      "metadata": {
        "id": "sIKc4L2HNGpa"
      },
      "execution_count": null,
      "outputs": []
    },
    {
      "cell_type": "markdown",
      "source": [
        "The code creates an interactive Mapbox scatter plot using latitude, longitude, and usage data from a DataFrame. It customizes the appearance and displays the plot with Plotly Express."
      ],
      "metadata": {
        "id": "Ug3iq5fG_J9V"
      }
    },
    {
      "cell_type": "code",
      "source": [
        "fig = xp.scatter_mapbox(\n",
        "    d,\n",
        "    lat='latitude',\n",
        "    lon='longitude',\n",
        "    text='Usage',\n",
        "    size='Usage',\n",
        "    title='Sample Map Plot',\n",
        "    zoom=4\n",
        ")\n",
        "fig.update_layout(\n",
        "    mapbox_style=\"open-street-map\",\n",
        "    margin=dict(l=0, r=0, t=40, b=0),\n",
        ")\n",
        "fig.show()"
      ],
      "metadata": {
        "id": "jN24wuO0S3xm"
      },
      "execution_count": null,
      "outputs": []
    }
  ],
  "metadata": {
    "colab": {
      "provenance": []
    },
    "kernelspec": {
      "display_name": "Python 3",
      "name": "python3"
    },
    "language_info": {
      "name": "python"
    }
  },
  "nbformat": 4,
  "nbformat_minor": 0
}